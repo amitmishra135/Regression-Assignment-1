{
 "cells": [
  {
   "cell_type": "markdown",
   "id": "aed4ced0-7849-4dcf-b1e3-67667c175ba6",
   "metadata": {},
   "source": [
    "Q1. Difference Between Simple and Multiple Linear Regression\n",
    "\n",
    "Answer ->"
   ]
  },
  {
   "cell_type": "markdown",
   "id": "b4896e52-1838-419d-83c8-3ebdfc2e39fc",
   "metadata": {},
   "source": [
    "-Simple Linear Regression=> Models the relationship between two variables by fitting a linear equation to observed data.\n",
    "\n",
    "        Example: Predicting a person's weight (dependent variable) based on their height (independent variable).\n",
    "\n",
    "-Multiple Linear Regression => Models the relationship between one dependent variable and two or more independent variables.\n",
    "\n",
    "        Example: Predicting a person's weight based on their height, age, and gender."
   ]
  },
  {
   "cell_type": "markdown",
   "id": "eae407f5-11ea-4a1a-bb46-b554f8b6df13",
   "metadata": {},
   "source": [
    "Q2. Assumptions of Linear Regression"
   ]
  },
  {
   "cell_type": "markdown",
   "id": "0ef635cf-9ed0-428a-bdb7-66963875b7ae",
   "metadata": {},
   "source": [
    "1. Linearity => The relationship between independent and dependent variables should be linear.\n",
    "2. Independence => Observations should be independent of each other.\n",
    "3. Homoscedasticity => Constant variance of errors.\n",
    "4. Normality => The residuals (errors) should be normally distributed.\n",
    "5. No Multicollinearity => Independent variables should not be too highly correlated.\n",
    "6. Checking Assumptions => Residual plots, VIF (Variance Inflation Factor), Durbin-Watson test, and normal probability plots."
   ]
  },
  {
   "cell_type": "markdown",
   "id": "6540c946-945a-4e68-ad5b-ce1695017003",
   "metadata": {},
   "source": [
    "Q3. Interpreting Slope and Intercept\n",
    "Answer->"
   ]
  },
  {
   "cell_type": "markdown",
   "id": "4891af11-831b-4987-a979-61456a81b819",
   "metadata": {},
   "source": [
    "* Slope: Represents the change in the dependent variable for a one-unit change in the independent variable.\n",
    "\n",
    "* Intercept: Represents the value of the dependent variable when all independent variables are zero.\n",
    "\n",
    "Example: In a model predicting salary based on years of experience, the slope indicates the average salary \n",
    "         increase per year of experience, and the intercept indicates the starting salary with zero years of experience."
   ]
  },
  {
   "cell_type": "markdown",
   "id": "6215059b-d987-4594-93ed-2e966ebeada6",
   "metadata": {},
   "source": [
    "Q4. Explain the concept of gradient descent. How is it used in machine learning?\n",
    "\n",
    "Answer ->"
   ]
  },
  {
   "cell_type": "markdown",
   "id": "ce72a60d-fbe3-40e4-8e40-15d7dbeb5565",
   "metadata": {},
   "source": [
    "* Concept: An optimization algorithm used to minimize the cost function\n",
    "        by iteratively adjusting the model parameters.\n",
    "        \n",
    "* Use in ML: Commonly used in training models like linear regression, logistic regression, \n",
    "        and neural networks to find the best-fit parameters"
   ]
  },
  {
   "cell_type": "markdown",
   "id": "f459705e-460c-4c61-94f9-453f5f6ad04d",
   "metadata": {},
   "source": [
    "Q5. Describe the multiple linear regression model. How does it differ from simple linear regression?\n",
    "\n",
    "Answer ->"
   ]
  },
  {
   "cell_type": "markdown",
   "id": "641362b4-5d81-4114-812e-b35a5dc82050",
   "metadata": {},
   "source": [
    "* Description: An extension of simple linear regression that models the relationship between one dependent variable \n",
    "            and multiple independent variables.\n",
    "    \n",
    "* Difference from Simple Linear Regression: Multiple independent variables instead of one."
   ]
  },
  {
   "cell_type": "markdown",
   "id": "605bf8c7-d8c5-4e51-9ed7-fc4e4fe67e94",
   "metadata": {},
   "source": [
    "Q6. Explain the concept of multicollinearity in multiple linear regression. How can you detect and address this issue?\n",
    "\n",
    "Answer ->"
   ]
  },
  {
   "cell_type": "markdown",
   "id": "195d10d5-9cea-4bbf-850a-2d1d50d0a053",
   "metadata": {},
   "source": [
    "* Concept: Occurs when independent variables are highly correlated, leading to unreliable coefficient estimates.\n",
    "* Detection: Variance Inflation Factor (VIF), correlation matrix.\n",
    "* Addressing: Remove or combine correlated variables, use principal component analysis (PCA)."
   ]
  },
  {
   "cell_type": "markdown",
   "id": "2bc8375d-9391-4825-8468-d721603a3c25",
   "metadata": {},
   "source": [
    "Q7. Describe the polynomial regression model. How is it different from linear regression?\n",
    "\n",
    "Answer ->"
   ]
  },
  {
   "cell_type": "markdown",
   "id": "64ab3b20-550c-48c5-8c09-32be27dddcb3",
   "metadata": {},
   "source": [
    "# Polynomial Regression Model\n",
    "* Description: A type of regression that models the relationship between the independent variable and the dependent variable as an nth-degree polynomial.\n",
    "* Difference from Linear Regression: Captures non-linear relationships by introducing polynomial terms."
   ]
  },
  {
   "cell_type": "markdown",
   "id": "12d74bbc-f995-4c30-a4ab-98e5766262dc",
   "metadata": {},
   "source": [
    "Q8. What are the advantages and disadvantages of polynomial regression compared to linear regression\n",
    "\n",
    "Answer ->"
   ]
  },
  {
   "cell_type": "markdown",
   "id": "055efb0e-5d48-40ce-87c6-1287f81284ed",
   "metadata": {},
   "source": [
    "* Advantages:   Can model non-linear relationships, more flexible than linear regression.\n",
    "* Disadvantages:   Prone to overfitting, harder to interpret, requires careful tuning of the polynomial degree.\n",
    "* Use Cases:   When the relationship between variables is known to be non-linear and simple linear regression is insufficient."
   ]
  },
  {
   "cell_type": "code",
   "execution_count": null,
   "id": "adb6d5b3-b7e5-4244-9c57-4a2d5f824c0b",
   "metadata": {},
   "outputs": [],
   "source": []
  }
 ],
 "metadata": {
  "kernelspec": {
   "display_name": "Python 3 (ipykernel)",
   "language": "python",
   "name": "python3"
  },
  "language_info": {
   "codemirror_mode": {
    "name": "ipython",
    "version": 3
   },
   "file_extension": ".py",
   "mimetype": "text/x-python",
   "name": "python",
   "nbconvert_exporter": "python",
   "pygments_lexer": "ipython3",
   "version": "3.10.8"
  }
 },
 "nbformat": 4,
 "nbformat_minor": 5
}
